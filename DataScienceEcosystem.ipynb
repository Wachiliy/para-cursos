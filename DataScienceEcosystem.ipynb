{
 "cells": [
  {
   "cell_type": "markdown",
   "id": "6be0e1f4-536c-48a8-8ecd-e1377887ddce",
   "metadata": {},
   "source": [
    "# Data science tool and ecosystem"
   ]
  },
  {
   "cell_type": "markdown",
   "id": "301d74df-43e0-44be-9283-9f6481602886",
   "metadata": {},
   "source": [
    "In this notebook, Data Science Tools and Ecosystem are summarized."
   ]
  },
  {
   "cell_type": "markdown",
   "id": "8b8837f0-eb4a-4a28-abc7-b1660ea06402",
   "metadata": {},
   "source": [
    "Some of the popular languages that Data Scientists use are:\n",
    "1. Python\n",
    "2. Java\n",
    "3. C++\n",
    "4. SQL"
   ]
  },
  {
   "cell_type": "markdown",
   "id": "39b1684c-03a7-483a-9dd9-2839ac99e7fd",
   "metadata": {},
   "source": [
    "Some of the commonly used libraries used by Data Scientists include:\n",
    "1. NumPy\n",
    "2. Pandas\n",
    "3. Matplotlib\n",
    "4. Seaborn\n",
    "5. Plotly\n",
    "6. Scikit-Learn\n",
    "7. TensorFlow\n",
    "8. PyTorch\n",
    "9. Keras"
   ]
  },
  {
   "cell_type": "markdown",
   "id": "1545a689-ea14-4360-b490-20981f27f122",
   "metadata": {},
   "source": [
    "\n",
    "|Data science tools|\n",
    "|:--------:|\n",
    "|Tableau|\n",
    "|Apache Stark|\n",
    "|Apache Hadoop|"
   ]
  },
  {
   "cell_type": "markdown",
   "id": "c79a1e18-4f18-4abd-a063-795790b8138a",
   "metadata": {},
   "source": [
    "### Below are a few examples of evaluating arithmetic expressions in Python"
   ]
  },
  {
   "cell_type": "code",
   "execution_count": 1,
   "id": "63d10e2b-227b-4c4d-ae7b-55e1d7735c1a",
   "metadata": {},
   "outputs": [
    {
     "data": {
      "text/plain": [
       "17"
      ]
     },
     "execution_count": 1,
     "metadata": {},
     "output_type": "execute_result"
    }
   ],
   "source": [
    "#This a simple arithmetic expression to mutiply then add integers\n",
    "(3*4)+5"
   ]
  },
  {
   "cell_type": "code",
   "execution_count": 7,
   "id": "70ff3c6c-3aa5-45f4-8e04-7b372c32a63f",
   "metadata": {},
   "outputs": [
    {
     "data": {
      "text/plain": [
       "'200 minutes are now 3.33 hours'"
      ]
     },
     "execution_count": 7,
     "metadata": {},
     "output_type": "execute_result"
    }
   ],
   "source": [
    "#This will convert 200 minutes to hours by diving by 60\n",
    "conversion=200/60\n",
    "\"200 minutes are now \"+str(round(conversion,2))+\" hours\""
   ]
  },
  {
   "cell_type": "markdown",
   "id": "8832841f-77a2-4a98-be90-bcfc2e15520f",
   "metadata": {},
   "source": [
    "Objectives:\n",
    "- Use list\n",
    "- Use arithmetic functions\n",
    "- Use str expressions\n",
    "- Remember important information\n",
    "- List popular languages for Data Science"
   ]
  },
  {
   "cell_type": "markdown",
   "id": "18c87a42-102e-4107-a54b-a287e636123a",
   "metadata": {},
   "source": [
    "## Author\n",
    "Wasiliy Ivanovish Dolog Romero\n"
   ]
  },
  {
   "cell_type": "code",
   "execution_count": null,
   "id": "e496aa59-7663-4327-8340-848d0a621ff8",
   "metadata": {},
   "outputs": [],
   "source": []
  }
 ],
 "metadata": {
  "kernelspec": {
   "display_name": "Python 3 (ipykernel)",
   "language": "python",
   "name": "python3"
  },
  "language_info": {
   "codemirror_mode": {
    "name": "ipython",
    "version": 3
   },
   "file_extension": ".py",
   "mimetype": "text/x-python",
   "name": "python",
   "nbconvert_exporter": "python",
   "pygments_lexer": "ipython3",
   "version": "3.12.7"
  }
 },
 "nbformat": 4,
 "nbformat_minor": 5
}
